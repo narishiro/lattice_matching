{
  "nbformat": 4,
  "nbformat_minor": 0,
  "metadata": {
    "colab": {
      "name": "lattice_matching.ipynb",
      "provenance": [],
      "collapsed_sections": []
    },
    "kernelspec": {
      "name": "python3",
      "display_name": "Python 3"
    },
    "language_info": {
      "name": "python"
    }
  },
  "cells": [
    {
      "cell_type": "markdown",
      "source": [
        "# 1. Import & Functions"
      ],
      "metadata": {
        "id": "u8zMKdQqFGSC"
      }
    },
    {
      "cell_type": "code",
      "source": [
        "from google.colab.patches import cv2_imshow"
      ],
      "metadata": {
        "id": "s_YkZdoCB1dM"
      },
      "execution_count": 1,
      "outputs": []
    },
    {
      "cell_type": "code",
      "execution_count": 10,
      "metadata": {
        "id": "_YK4-TmElt52"
      },
      "outputs": [],
      "source": [
        "import numpy as np\n",
        "import cv2\n",
        "\n",
        "H, W = 1000, 1000\n",
        "a = 5\n",
        "N = 20\n",
        "r = 3\n",
        "\n",
        "\n",
        "class Lattice:\n",
        "    def __init__(self, lengths, angles):\n",
        "        self.length = lengths\n",
        "        self.angle = angles\n",
        "\n",
        "        self.a = lengths[0]\n",
        "        self.b = lengths[1]\n",
        "        self.c = lengths[2]\n",
        "\n",
        "        self.alpha = angles[0] / 180 * np.pi\n",
        "        self.beta = angles[1] / 180 * np.pi\n",
        "        self.gamma = angles[2] / 180 * np.pi\n",
        "\n",
        "        self.ab = self.a * self.b * np.cos(self.gamma)\n",
        "        self.ba = self.a * self.b * np.cos(self.gamma)\n",
        "\n",
        "        self.bc = self.b * self.c * np.cos(self.alpha)\n",
        "        self.cb = self.b * self.c * np.cos(self.alpha)\n",
        "\n",
        "        self.ca = self.c * self.a * np.cos(self.beta)\n",
        "        self.ac = self.c * self.a * np.cos(self.beta)\n",
        "\n",
        "        self.a_b = np.sqrt(self.a**2 + self.b**2 - 2 * self.a * self.b * np.cos(self.gamma))\n",
        "        self.b_a = np.sqrt(self.a**2 + self.b**2 - 2 * self.a * self.b * np.cos(self.gamma))\n",
        "\n",
        "        self.b_c = np.sqrt(self.b**2 + self.c**2 - 2 * self.b * self.c * np.cos(self.alpha))\n",
        "        self.c_b = np.sqrt(self.b**2 + self.c**2 - 2 * self.b * self.c * np.cos(self.alpha))\n",
        "\n",
        "        self.c_a = np.sqrt(self.c**2 + self.a**2 - 2 * self.c * self.a * np.cos(self.beta))\n",
        "        self.a_c = np.sqrt(self.c**2 + self.a**2 - 2 * self.c * self.a * np.cos(self.beta))\n",
        "\n",
        "    def index_to_parallelogram(self, ind_1, ind_2, ind_3):\n",
        "        if ind_1 == ind_2 == ind_3 == 1:\n",
        "            length_1 = self.b_a\n",
        "            length_2 = self.c_a\n",
        "            angle = np.arccos((self.bc - self.ca - self.ba + self.a**2) / (self.b_a * self.c_a))\n",
        "        elif (ind_1 == ind_2 == 1) and (ind_3 == 0):\n",
        "            length_1 = self.c\n",
        "            length_2 = self.b_a\n",
        "            angle = np.arccos((self.bc - self.ac) / (self.b_a * self.c))\n",
        "        elif (ind_2 == ind_3 == 1) and (ind_1 == 0):\n",
        "            length_1 = self.a\n",
        "            length_2 = self.c_b\n",
        "            angle = np.arccos((self.ca - self.ba) / (self.c_b * self.a))\n",
        "        elif (ind_3 == ind_1 == 1) and (ind_2 == 0):\n",
        "            length_1 = self.b\n",
        "            length_2 = self.a_c\n",
        "            angle = np.arccos((self.ab - self.cb) / (self.a_c * self.b))\n",
        "        elif (ind_1 == 1) and (ind_2 == ind_3 == 0):\n",
        "            length_1 = self.b\n",
        "            length_2 = self.c\n",
        "            angle = self.alpha\n",
        "        elif (ind_2 == 1) and (ind_3 == ind_1 == 0):\n",
        "            length_1 = self.c\n",
        "            length_2 = self.a\n",
        "            angle = self.beta\n",
        "        elif (ind_3 == 1) and (ind_1 == ind_2 == 0):\n",
        "            length_1 = self.a\n",
        "            length_2 = self.b\n",
        "            angle = self.gamma\n",
        "        else:\n",
        "            raise print(\"Invalid indexes inputted.\")\n",
        "\n",
        "        return length_1, length_2, angle / np.pi * 180\n",
        "\n",
        "\n",
        "def generate_lattice_image(lattice, index, H=H, W=W, a=a, N=N, r=r):\n",
        "    lattice_image = np.zeros((H, W))\n",
        "    l_a, l_b, theta = lattice.index_to_parallelogram(index[0], index[1], index[2])\n",
        "    center = (H//2, W//2)\n",
        "\n",
        "    for x in range(-N, N + 1):\n",
        "        for y in range(-N, N + 1):\n",
        "            position_x = center[0] + int(a * (x * l_a + y * l_b * np.cos(theta / 180 * np.pi)))\n",
        "            position_y = center[1] + int(a * y * l_b * np.sin(theta / 180 * np.pi))\n",
        "            position = (position_y, position_x)\n",
        "            lattice_image = cv2.circle(lattice_image, position, r, 1, thickness=-1)\n",
        "\n",
        "    return lattice_image\n",
        "\n",
        "\n",
        "def simulate_matching(\n",
        "    substrate: Lattice,\n",
        "    film: Lattice,\n",
        "    substrate_indexes: list = [(1,0,0), (1,1,0), (1,1,1)],\n",
        "    film_indexes: list = [(1,0,0),(0,1,0),(0,0,1),(1,1,0),(0,1,1),(1,0,1),(1,1,1)],\n",
        "    step: float = 1,\n",
        "):\n",
        "\n",
        "    angles = np.arange(0, 90 + step, step=step)\n",
        "    out = {}\n",
        "\n",
        "    for base_index in substrate_indexes:\n",
        "        for on_index in film_indexes:\n",
        "            head = f\"Substrate({base_index[0]}{base_index[1]}{base_index[2]})//Film({on_index[0]}{on_index[1]}{on_index[2]})\"\n",
        "\n",
        "            base = generate_lattice_image(substrate, base_index)\n",
        "            on = generate_lattice_image(film, on_index)\n",
        "\n",
        "            y = []\n",
        "\n",
        "            for angle in angles:\n",
        "                trans = cv2.getRotationMatrix2D((H//2, W//2), angle, 1.0)\n",
        "                on_rot = cv2.warpAffine(on, trans, (W, H))\n",
        "                value = np.sum((on_rot * base)[H//4:H//4*3,W//4:W//4*3])\n",
        "                y.append(value)\n",
        "\n",
        "            ind_max = np.argmax(y)\n",
        "            angle_max = angles[ind_max]\n",
        "            overlap_max = y[ind_max]\n",
        "\n",
        "            trans = cv2.getRotationMatrix2D((H//2, W//2), angle_max, 1.0)\n",
        "            on_rot = cv2.warpAffine(on, trans, (W, H))\n",
        "            print(f\"\\n{head}, θ_max={angle_max:.1f}°, A_max={overlap_max:.0f}px\")\n",
        "            base_show = cv2.cvtColor((base * 255).astype(np.uint8), cv2.COLOR_GRAY2RGB)\n",
        "            on_rot_show = cv2.cvtColor((on_rot * 255).astype(np.uint8), cv2.COLOR_GRAY2RGB)\n",
        "\n",
        "            base_show[:,:,0] = 0\n",
        "            base_show[:,:,2] = 0\n",
        "            on_rot_show[:,:,0] = 0\n",
        "            on_rot_show[:,:,1] = 0\n",
        "            out_image = (255 - base_show/2 - on_rot_show/2)[H//4:H//4*3,W//4:W//4*3]\n",
        "\n",
        "            h, w, _ = out_image.shape\n",
        "\n",
        "            s_a, s_b, s_angle = substrate.index_to_parallelogram(base_index[0], base_index[1], base_index[2])\n",
        "            t_a, t_b, t_angle = film.index_to_parallelogram(on_index[0], on_index[1], on_index[2])\n",
        "\n",
        "            cv2.line(\n",
        "                out_image,\n",
        "                pt1=(w//2, h//2),\n",
        "                pt2=(w//2, h//2-int(s_a*a)),\n",
        "                color=(255, 0, 255),\n",
        "                thickness=2,\n",
        "            )\n",
        "            cv2.line(\n",
        "                out_image,\n",
        "                pt1=(w//2, h//2),\n",
        "                pt2=(w//2+int(s_b*np.sin(s_angle/180*np.pi)*a), h//2-int(s_b*np.cos(s_angle/180*np.pi)*a)),\n",
        "                color=(255, 0, 255),\n",
        "                thickness=2,\n",
        "            )\n",
        "            cv2.line(\n",
        "                out_image,\n",
        "                pt1=(w//2, h//2),\n",
        "                pt2=(w//2+int(t_a*np.sin(-angle/180*np.pi)*a), h//2-int(t_a*np.cos(-angle/180*np.pi)*a)),\n",
        "                color=(255, 255, 0),\n",
        "            )\n",
        "            cv2.line(\n",
        "                out_image,\n",
        "                pt1=(w//2, h//2),\n",
        "                pt2=(w//2+int(t_b*np.sin((t_angle-angle)/180*np.pi)*a), h//2-int(t_b*np.cos((t_angle-angle)/180*np.pi)*a)),\n",
        "                color=(255, 255, 0),\n",
        "            )\n",
        "\n",
        "            out[head] = {\n",
        "                \"theta\": angles,\n",
        "                \"s\": y,\n",
        "                \"theta_max\": angle_max,\n",
        "                \"A_max\": overlap_max,\n",
        "                \"image\": out_image\n",
        "            }\n",
        "\n",
        "    d = {key: out[key][\"A_max\"] for key in out.keys()}\n",
        "    key = max(d, key=d.get)\n",
        "    print(f\"\\nBest matching: {key}@θ={out[key]['theta_max']:.1f}°, A={d[key]:.0f}px\")\n",
        "    return out"
      ]
    },
    {
      "cell_type": "markdown",
      "source": [
        "# 2. Lattice"
      ],
      "metadata": {
        "id": "IBmNs9E1FLMM"
      }
    },
    {
      "cell_type": "code",
      "source": [
        "crystall = {\n",
        "    \"Ge\": Lattice([5.658, 5.658, 5.658], [90, 90, 90]),\n",
        "    \"FeGe\": Lattice([4.6484, 4.6484, 4.6484], [90.0000, 90.0000, 90.0000]),\n",
        "}"
      ],
      "metadata": {
        "id": "-rzKEiZrO71t"
      },
      "execution_count": 6,
      "outputs": []
    },
    {
      "cell_type": "markdown",
      "source": [
        "# 3. Matching"
      ],
      "metadata": {
        "id": "NUkuJFcfFM7e"
      }
    },
    {
      "cell_type": "code",
      "source": [
        "out = simulate_matching(crystall[\"Ge\"], crystall[\"FeGe\"])"
      ],
      "metadata": {
        "colab": {
          "base_uri": "https://localhost:8080/"
        },
        "id": "aYspYqom9wlL",
        "outputId": "3029654f-e2c9-425c-debb-fc9e627f0221"
      },
      "execution_count": 11,
      "outputs": [
        {
          "output_type": "stream",
          "name": "stdout",
          "text": [
            "\n",
            "Substrate(100)//Film(100), θ_max=45.0°, A_max=596px\n",
            "\n",
            "Substrate(100)//Film(010), θ_max=45.0°, A_max=596px\n",
            "\n",
            "Substrate(100)//Film(001), θ_max=45.0°, A_max=596px\n",
            "\n",
            "Substrate(100)//Film(110), θ_max=35.0°, A_max=530px\n",
            "\n",
            "Substrate(100)//Film(011), θ_max=35.0°, A_max=530px\n",
            "\n",
            "Substrate(100)//Film(101), θ_max=35.0°, A_max=530px\n",
            "\n",
            "Substrate(100)//Film(111), θ_max=0.0°, A_max=1409px\n",
            "\n",
            "Substrate(110)//Film(100), θ_max=35.0°, A_max=1270px\n",
            "\n",
            "Substrate(110)//Film(010), θ_max=35.0°, A_max=1270px\n",
            "\n",
            "Substrate(110)//Film(001), θ_max=35.0°, A_max=1270px\n",
            "\n",
            "Substrate(110)//Film(110), θ_max=35.0°, A_max=2326px\n",
            "\n",
            "Substrate(110)//Film(011), θ_max=35.0°, A_max=2326px\n",
            "\n",
            "Substrate(110)//Film(101), θ_max=35.0°, A_max=2326px\n",
            "\n",
            "Substrate(110)//Film(111), θ_max=90.0°, A_max=847px\n",
            "\n",
            "Substrate(111)//Film(100), θ_max=30.0°, A_max=579px\n",
            "\n",
            "Substrate(111)//Film(010), θ_max=30.0°, A_max=579px\n",
            "\n",
            "Substrate(111)//Film(001), θ_max=30.0°, A_max=579px\n",
            "\n",
            "Substrate(111)//Film(110), θ_max=90.0°, A_max=395px\n",
            "\n",
            "Substrate(111)//Film(011), θ_max=90.0°, A_max=395px\n",
            "\n",
            "Substrate(111)//Film(101), θ_max=90.0°, A_max=395px\n",
            "\n",
            "Substrate(111)//Film(111), θ_max=46.0°, A_max=313px\n",
            "\n",
            "Best matching: Substrate(110)//Film(110)@θ=35.0°, A=2326px\n"
          ]
        }
      ]
    },
    {
      "cell_type": "code",
      "source": [
        "cv2_imshow(out[\"Substrate(110)//Film(110)\"][\"image\"])"
      ],
      "metadata": {
        "colab": {
          "base_uri": "https://localhost:8080/",
          "height": 517
        },
        "id": "aHAJ-pkyCAB6",
        "outputId": "724b1c74-8292-41d5-b756-ab22a3e337eb"
      },
      "execution_count": 12,
      "outputs": [
        {
          "output_type": "display_data",
          "data": {
            "text/plain": [
              "<PIL.Image.Image image mode=RGB size=500x500 at 0x7F6522804950>"
            ],
            "image/png": "[encoded data removed]"
          },
          "metadata": {}
        }
      ]
    }
  ]
}